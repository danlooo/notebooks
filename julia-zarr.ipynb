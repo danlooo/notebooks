{
 "cells": [
  {
   "cell_type": "markdown",
   "id": "f1025a75-37e1-4031-b56d-1899e1954a05",
   "metadata": {},
   "source": [
    "# Zarr data cubes with Julia\n",
    "\n",
    "Zarr file format to read and write N-dimensional arrays (Tensors) in a chuncked, compressed and parallel way.\n",
    "\n",
    "\n",
    "## Quick start\n",
    "\n",
    "Example from the [Github website](https://github.com/JuliaIO/Zarr.jl)"
   ]
  },
  {
   "cell_type": "code",
   "execution_count": 1,
   "id": "403db002-b138-47ca-b43f-17c724e21664",
   "metadata": {},
   "outputs": [
    {
     "data": {
      "text/plain": [
       "ZArray{Int64} of size 10000 x 10000"
      ]
     },
     "execution_count": 1,
     "metadata": {},
     "output_type": "execute_result"
    }
   ],
   "source": [
    "using Zarr\n",
    "z1 = zcreate(Int, 10000,10000,path = \"data/z1.zarr\",chunks=(1000, 1000))\n",
    "z1[:] .= 42\n",
    "z1[:,1] = 1:10000\n",
    "z1[1,:] = 1:10000\n",
    "z1"
   ]
  },
  {
   "cell_type": "code",
   "execution_count": 2,
   "id": "fb52ab3f-8ab0-45a7-ad8b-53594f042843",
   "metadata": {},
   "outputs": [
    {
     "data": {
      "text/plain": [
       "3-element Vector{Int64}:\n",
       " 1\n",
       " 2\n",
       " 3"
      ]
     },
     "execution_count": 2,
     "metadata": {},
     "output_type": "execute_result"
    }
   ],
   "source": [
    "z1[1,1:3]"
   ]
  },
  {
   "cell_type": "code",
   "execution_count": 3,
   "id": "7067048e-3049-4547-b64d-c69e810eca13",
   "metadata": {},
   "outputs": [
    {
     "data": {
      "text/plain": [
       "10×10 Matrix{Int64}:\n",
       "  1   2   3   4   5   6   7   8   9  10\n",
       "  2  42  42  42  42  42  42  42  42  42\n",
       "  3  42  42  42  42  42  42  42  42  42\n",
       "  4  42  42  42  42  42  42  42  42  42\n",
       "  5  42  42  42  42  42  42  42  42  42\n",
       "  6  42  42  42  42  42  42  42  42  42\n",
       "  7  42  42  42  42  42  42  42  42  42\n",
       "  8  42  42  42  42  42  42  42  42  42\n",
       "  9  42  42  42  42  42  42  42  42  42\n",
       " 10  42  42  42  42  42  42  42  42  42"
      ]
     },
     "execution_count": 3,
     "metadata": {},
     "output_type": "execute_result"
    }
   ],
   "source": [
    "z1[1:10,1:10]"
   ]
  },
  {
   "cell_type": "markdown",
   "id": "7392cc61-8354-47d4-8aa9-8429bd468097",
   "metadata": {},
   "source": [
    "Modify cells:"
   ]
  },
  {
   "cell_type": "code",
   "execution_count": 11,
   "id": "192928b4-6e56-4c16-9caf-26b3ce37ed7d",
   "metadata": {},
   "outputs": [
    {
     "data": {
      "text/plain": [
       "3×3 Matrix{Int64}:\n",
       " 43   2   3\n",
       " 43  42  42\n",
       " 43  42  42"
      ]
     },
     "execution_count": 11,
     "metadata": {},
     "output_type": "execute_result"
    }
   ],
   "source": [
    "z1[:,1] .= 43\n",
    "z1[1:3,1:3]"
   ]
  },
  {
   "cell_type": "markdown",
   "id": "d68d6e3b-580e-4f17-bd84-c139b899b801",
   "metadata": {},
   "source": [
    "Create a read-only copy of `z1` called `z2` to demonstrate that previous modifications were already written to the files and no write trigger is explitcitly needed:"
   ]
  },
  {
   "cell_type": "code",
   "execution_count": 12,
   "id": "528daa29-20fa-49d0-a5e5-254c91e522c3",
   "metadata": {},
   "outputs": [
    {
     "data": {
      "text/plain": [
       "3×3 Matrix{Int64}:\n",
       " 43   2   3\n",
       " 43  42  42\n",
       " 43  42  42"
      ]
     },
     "execution_count": 12,
     "metadata": {},
     "output_type": "execute_result"
    }
   ],
   "source": [
    "z2 = zopen(\"data/z1.zarr\")\n",
    "z2[1:3,1:3]"
   ]
  },
  {
   "cell_type": "markdown",
   "id": "ea898944-bf6b-4500-a3ce-2b6680921b77",
   "metadata": {},
   "source": [
    "- `z2` is not writeable\n",
    "- Respecting chuncks will be written again if `z1[:] .= 43` is executed again despite no changes in the data."
   ]
  },
  {
   "cell_type": "code",
   "execution_count": null,
   "id": "4c5f57bf-b9c4-4962-a667-31a26db1115d",
   "metadata": {},
   "outputs": [],
   "source": []
  }
 ],
 "metadata": {
  "kernelspec": {
   "display_name": "Julia 1.7.3",
   "language": "julia",
   "name": "julia-1.7"
  },
  "language_info": {
   "file_extension": ".jl",
   "mimetype": "application/julia",
   "name": "julia",
   "version": "1.7.3"
  }
 },
 "nbformat": 4,
 "nbformat_minor": 5
}
